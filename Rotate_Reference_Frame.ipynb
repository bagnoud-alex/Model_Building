{
 "cells": [
  {
   "cell_type": "markdown",
   "metadata": {},
   "source": [
    "Author: Alex Bagnoud\n",
    "\n",
    "# Fitting new axes\n",
    "## ! This notebook is a HELP to fit new axes. Some modifications may be needed !\n",
    "### It is recommended to verify the transformations applied and make sure they are correct\n",
    "\n",
    "#### How to use it:\n",
    "1. Declare the functions in the cell below\n",
    "2. Go the the case below that you need to apply:\n",
    "    - Move to CASE 1 to rotate the body along the Y axis\n",
    "    - Move to CASE 2 to define a new Y axis\n"
   ]
  },
  {
   "cell_type": "code",
   "execution_count": null,
   "metadata": {},
   "outputs": [],
   "source": [
    "import numpy as np\n",
    "import math\n",
    "\n",
    "def print_arrows(Bo):\n",
    "    # This functions prints out a reference frame in blender\n",
    "    # This is used as a verification step to make sure the transformation to follow will be correct\n",
    "    print(\" ----- \")\n",
    "    print(\"import bpy\")\n",
    "    print(\"Transform = ((\",Bo[0,0],\",\",Bo[1,0],\",\",Bo[2,0],\",\",Bo[3,0],\"),\",\n",
    "        \"(\",Bo[0,1],\",\",Bo[1,1],\",\",Bo[2,1],\",\",Bo[3,1],\"),\",\n",
    "        \"(\",Bo[0,2],\",\",Bo[1,2],\",\",Bo[2,2],\",\",Bo[3,2],\"),\",\n",
    "        \"(\",Bo[0,3],\",\",Bo[1,3],\",\",Bo[2,3],\",\",Bo[3,3],\"))\")\n",
    "    print(\"bpy.ops.object.empty_add(type='ARROWS', location=(0, 0, 0))\")\n",
    "    print(\"bpy.context.object.matrix_world = Transform\")\n",
    "    print(\" ----- \")\n",
    "    \n",
    "def print_transform(Bo):\n",
    "    # This functions prints the output of a new 'world_matrix' for blender.\n",
    "    # Copy and paste the output (between the '----') in the blender console\n",
    "    # while having the body you want to move selected.\n",
    "    print(\" ----- \")\n",
    "    print(\"import bpy\")\n",
    "    print(\"Transform = ((\",Bo[0,0],\",\",Bo[1,0],\",\",Bo[2,0],\",\",Bo[3,0],\"),\",\n",
    "    \"(\",Bo[0,1],\",\",Bo[1,1],\",\",Bo[2,1],\",\",Bo[3,1],\"),\",\n",
    "    \"(\",Bo[0,2],\",\",Bo[1,2],\",\",Bo[2,2],\",\",Bo[3,2],\"),\",\n",
    "    \"(\",Bo[0,3],\",\",Bo[1,3],\",\",Bo[2,3],\",\",Bo[3,3],\"))\")\n",
    "    print(\"bpy.context.object.matrix_world = Transform\")\n",
    "    print(\" ----- \")\n",
    "       \n",
    "def Compute_from_x(x, y):\n",
    "    \n",
    "    # Processing new X\n",
    "    x[1] = 0 # Removing y component\n",
    "    x = x / np.linalg.norm(x) # Forcing norm 1\n",
    "    \n",
    "    # Creating new Z\n",
    "    z = np.cross(x, y) # Taking perpendicular from both x and y\n",
    "    z = z / np.linalg.norm(z) # Forcing norm 1\n",
    "    \n",
    "    # User outputs to make sure all is ok:\n",
    "    print(\"Make sure all are zeros: (All perpendicular) :\", np.dot(y,x), np.dot(y,z), np.dot(z,x))\n",
    "    \n",
    "    # Creating new 'Matrix_world'\n",
    "    New_Bo = np.array([x, y, z])\n",
    "    Bo = np.identity(4)\n",
    "    Bo[0:3,0:3] = New_Bo.T\n",
    "    \n",
    "    # Printing Verification\n",
    "    print(\"\")\n",
    "    print(\" =====  VERIFICATION AXES ==== \")\n",
    "    print(\"Copy and paste the following in the blender console and verfiy the axes are correct\")\n",
    "    print(\"Make sure nothing is selected in blender before doing so\")\n",
    "    print_arrows(Bo)\n",
    "    \n",
    "    # Printing Final Transform\n",
    "    print(\"\")\n",
    "    print(\" =====  FINAL TRANSFORMATION ==== \")\n",
    "    print(\"Select the body you want to move, and copy and paste the output below in the blender console\")\n",
    "    Bo[0,2] *= -1\n",
    "    Bo[2,0] *= -1\n",
    "    print_transform(Bo)\n",
    "    \n",
    "     \n",
    "def Compute_from_z(z, y):\n",
    "    \n",
    "    # Processing new Z\n",
    "    z[1] = 0 # Removing y component\n",
    "    z = z / np.linalg.norm(z) # Forcing norm 1\n",
    "    \n",
    "    # Creating new X\n",
    "    x = np.cross(y, z) # Taking perpendicular from both z and y\n",
    "    x = x / np.linalg.norm(x) # Forcing norm 1\n",
    "    \n",
    "    # User outputs to make sure all is ok:\n",
    "    print(\"Make sure all are zeros: (All perpendicular) :\", np.dot(y,x), np.dot(y,z), np.dot(z,x))\n",
    "    \n",
    "    # Creating new 'Matrix_world'\n",
    "    New_Bo = np.array([x, y, z])\n",
    "    Bo = np.identity(4)\n",
    "    Bo[0:3,0:3] = New_Bo.T\n",
    "    \n",
    "    # Printing Verification\n",
    "    print(\"\")\n",
    "    print(\" =====  VERIFICATION AXES ==== \")\n",
    "    print(\"Copy and paste the following in the blender console and verfiy the axes are correct\")\n",
    "    print(\"Make sure nothing is selected in blender before doing so\")\n",
    "    print_arrows(Bo)\n",
    "    \n",
    "    # Printing Final Transform\n",
    "    print(\"\")\n",
    "    print(\" =====  FINAL TRANSFORMATION ==== \")\n",
    "    print(\"Select the body you want to move, and copy and paste the output below in the blender console\")\n",
    "    Bo[0,2] *= -1\n",
    "    Bo[2,0] *= -1\n",
    "    print_transform(Bo)\n",
    "    "
   ]
  },
  {
   "cell_type": "markdown",
   "metadata": {},
   "source": [
    "# CASE 1: ROTATION AROUND Y AXIS\n",
    "- Moving X and Z"
   ]
  },
  {
   "cell_type": "code",
   "execution_count": null,
   "metadata": {},
   "outputs": [],
   "source": [
    "# This is the axis along the bone. It should be (0 1 0) (if made correct for opensim)\n",
    "y = np.array([0, 1, 0])"
   ]
  },
  {
   "cell_type": "markdown",
   "metadata": {},
   "source": [
    "### A new axis needs to be defined. \n",
    "- If you define the new X axis, use the first cell below:\n",
    "- If you define the new Z axis, use the second cell below:"
   ]
  },
  {
   "cell_type": "code",
   "execution_count": null,
   "metadata": {},
   "outputs": [],
   "source": [
    "# ======= DEFINITION OF X AXIS =========\n",
    "\n",
    "# Define the two points used to define the new X axis\n",
    "# (Make sure to get those coordinates in 'gloabal' reference frame)\n",
    "front = np.array([1, 1, 1]) # Forward point (where X is pointing)\n",
    "back = np.array([0, 0, 0]) # Backward point (where X is coming from)\n",
    "\n",
    "x = front-back # Won't work if front and back are not in the correct order\n",
    "\n",
    "Compute_from_x(x, y)"
   ]
  },
  {
   "cell_type": "code",
   "execution_count": null,
   "metadata": {},
   "outputs": [],
   "source": [
    "# ======= DEFINITION OF Z AXIS =========\n",
    "\n",
    "# Define the two points used to define the new X axis\n",
    "# (Make sure to get those coordinates in 'gloabal' reference frame)\n",
    "front = np.array([0, 0, 0]) # Forward point (where X is pointing)\n",
    "back = np.array([0, 0, 0]) # Backward point (where X is coming from)\n",
    "\n",
    "z = front-back # Won't work if front and back are not in the correct order\n",
    "\n",
    "Compute_from_z(z, y)"
   ]
  },
  {
   "cell_type": "markdown",
   "metadata": {},
   "source": [
    "# CASE 2: REDIFINING NEW Y\n",
    "- WITH A KNOW POINT (The point is where the new Y axis will be passing through.)\n",
    "- (The script below works with a body already with the Y axis along the bone and pointing away from it)"
   ]
  },
  {
   "cell_type": "markdown",
   "metadata": {},
   "source": [
    "Disclaimer: This case may need modification for the body you are working on"
   ]
  },
  {
   "cell_type": "code",
   "execution_count": null,
   "metadata": {},
   "outputs": [],
   "source": [
    "# This is the point where the new Y axis will be pointing\n",
    "p1 = np.array([-0.00516, -0.10067, 0.00962])\n",
    "\n",
    "# This is used if Y is passing though the point, but the point is not in the forward direction of the new Y axis\n",
    "# Comment if not needed.\n",
    "p1[1] *= -1 # May not work if your bone is not as instructed above\n",
    "\n",
    "# Forcing norm 1\n",
    "p1 = p1 / np.linalg.norm(p1)"
   ]
  },
  {
   "cell_type": "code",
   "execution_count": null,
   "metadata": {},
   "outputs": [],
   "source": [
    "# For now, we only try to move the Y axis and keep X and Z close to their original direction.\n",
    "\n",
    "# Try to define temp_z as close as the original z, or use other axes.\n",
    "temp_z = np.array([0,0,1])\n",
    "\n",
    "x = np.cross(p1, temp_z) # Finding new X\n",
    "x = x / np.linalg.norm(x) # Forcing norm 1\n",
    "z = np.cross(x, p1) # Finding new Z\n",
    "z = z / np.linalg.norm(z) # Forcing norm 1\n",
    "\n",
    "print(\"Make sure all vectors are perpedicular (=zeros):\", np.dot(x,p1), np.dot(x,z), np.dot(p1,z))"
   ]
  },
  {
   "cell_type": "code",
   "execution_count": null,
   "metadata": {},
   "outputs": [],
   "source": [
    "# Creating new transformation\n",
    "Temp_Bo = np.array([x, p1, z])\n",
    "Bo = np.identity(4)\n",
    "Bo[0:3,0:3] = Temp_Bo.T\n",
    "Bo[0,2] *= -1\n",
    "Bo[2,0] *= -1\n",
    "\n",
    "# Printing output\n",
    "print(\" ===== TRANSFORMATION ==== \")\n",
    "print(\"Select the body you want to move, and copy and paste the output below in the blender console\")\n",
    "print_transform(Bo)"
   ]
  },
  {
   "cell_type": "code",
   "execution_count": null,
   "metadata": {},
   "outputs": [],
   "source": []
  }
 ],
 "metadata": {
  "kernelspec": {
   "display_name": "Python 3",
   "language": "python",
   "name": "python3"
  },
  "language_info": {
   "codemirror_mode": {
    "name": "ipython",
    "version": 3
   },
   "file_extension": ".py",
   "mimetype": "text/x-python",
   "name": "python",
   "nbconvert_exporter": "python",
   "pygments_lexer": "ipython3",
   "version": "3.7.6"
  }
 },
 "nbformat": 4,
 "nbformat_minor": 4
}
